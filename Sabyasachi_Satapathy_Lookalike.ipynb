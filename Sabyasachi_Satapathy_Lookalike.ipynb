{
  "nbformat": 4,
  "nbformat_minor": 0,
  "metadata": {
    "colab": {
      "provenance": []
    },
    "kernelspec": {
      "name": "python3",
      "display_name": "Python 3"
    },
    "language_info": {
      "name": "python"
    }
  },
  "cells": [
    {
      "cell_type": "code",
      "execution_count": null,
      "metadata": {
        "id": "fVlLMnNWywXC"
      },
      "outputs": [],
      "source": [
        "\n",
        "import pandas as pd\n",
        "import numpy as np\n",
        "import matplotlib.pyplot as plt\n",
        "import seaborn as sns\n",
        "import warnings\n",
        "warnings.filterwarnings('ignore')\n",
        "\n",
        "\n",
        "data = pd.read_csv('mergerd.csv', encoding='UTF-8-SIG')"
      ]
    },
    {
      "source": [
        "from sklearn.metrics.pairwise import cosine_similarity\n",
        "import numpy as np\n",
        "\n",
        "customer_features = data[['CustomerID', 'Region', 'Category', 'TotalValue', 'Quantity']]\n",
        "\n",
        "first_20_customers = customer_features[customer_features['CustomerID'].isin(\n",
        "    [\"C0001\", \"C0002\", \"C0003\", \"C0004\", \"C0005\", \"C0006\", \"C0007\", \"C0008\", \"C0009\", \"C0010\",\n",
        "     \"C0011\", \"C0012\", \"C0013\", \"C0014\", \"C0015\", \"C0016\", \"C0017\", \"C0018\", \"C0019\", \"C0020\"]\n",
        ")]\n",
        "\n",
        "\n",
        "feature_matrix = first_20_customers[['TotalValue', 'Quantity']]\n",
        "\n",
        "\n",
        "similarity_matrix = cosine_similarity(feature_matrix)\n",
        "\n",
        "\n",
        "lookalike_map = {}\n",
        "\n",
        "for idx, customer_id in enumerate(first_20_customers['CustomerID']):\n",
        "\n",
        "    similarity_scores = list(enumerate(similarity_matrix[idx]))\n",
        "\n",
        "    sorted_scores = sorted(similarity_scores, key=lambda x: x[1], reverse=True)\n",
        "\n",
        "    top_3 = [(first_20_customers.iloc[i]['CustomerID'], score) for i, score in sorted_scores[1:4]]\n",
        "    lookalike_map[customer_id] = top_3\n",
        "\n",
        "import csv\n",
        "\n",
        "with open('Lookalike.csv', 'w', newline='') as csvfile:\n",
        "    writer = csv.writer(csvfile)\n",
        "    writer.writerow(['CustomerID', 'Lookalikes'])\n",
        "    for cust_id, lookalikes in lookalike_map.items():\n",
        "        writer.writerow([cust_id, lookalikes])\n",
        "\n",
        "print(\"Lookalike.csv has been created with the top 3 similar customers for the first 20 customers.\")"
      ],
      "cell_type": "code",
      "metadata": {
        "colab": {
          "base_uri": "https://localhost:8080/"
        },
        "id": "DSpNRGwL09RO",
        "outputId": "9b2a705a-72ab-4f2c-f079-2ec8411fd766"
      },
      "execution_count": null,
      "outputs": [
        {
          "output_type": "stream",
          "name": "stdout",
          "text": [
            "Lookalike.csv has been created with the top 3 similar customers for the first 20 customers.\n"
          ]
        }
      ]
    },
    {
      "source": [
        "from sklearn.preprocessing import MinMaxScaler\n",
        "\n",
        "\n",
        "scaler = MinMaxScaler()\n",
        "normalized_features = scaler.fit_transform(feature_matrix)\n",
        "\n",
        "\n",
        "improved_similarity_matrix = cosine_similarity(normalized_features)\n",
        "\n",
        "\n",
        "improved_lookalike_map = {}\n",
        "for idx, customer_id in enumerate(first_20_customers['CustomerID']):\n",
        "\n",
        "    similarity_scores = list(enumerate(improved_similarity_matrix[idx]))\n",
        "\n",
        "    sorted_scores = sorted(similarity_scores, key=lambda x: x[1], reverse=True)\n",
        "\n",
        "    top_3 = [(first_20_customers.iloc[i]['CustomerID'], score) for i, score in sorted_scores[1:4]]\n",
        "    improved_lookalike_map[customer_id] = top_3\n",
        "\n",
        "\n",
        "with open('Improved_Lookalike.csv', 'w', newline='') as csvfile:\n",
        "    writer = csv.writer(csvfile)\n",
        "    writer.writerow(['CustomerID', 'Lookalikes'])\n",
        "    for cust_id, lookalikes in improved_lookalike_map.items():\n",
        "        writer.writerow([cust_id, lookalikes])\n",
        "\n",
        "print(\"Improved_Lookalike.csv has been created with the top 3 similar customers for all customers.\")"
      ],
      "cell_type": "code",
      "metadata": {
        "colab": {
          "base_uri": "https://localhost:8080/"
        },
        "id": "_b5MGoF17mOU",
        "outputId": "99107b15-0ed8-4eb7-f4e5-655d239c17e6"
      },
      "execution_count": null,
      "outputs": [
        {
          "output_type": "stream",
          "name": "stdout",
          "text": [
            "Improved_Lookalike.csv has been created with the top 3 similar customers for all customers.\n"
          ]
        }
      ]
    }
  ]
}